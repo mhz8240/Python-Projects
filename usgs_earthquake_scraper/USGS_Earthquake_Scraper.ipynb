{
  "nbformat": 4,
  "nbformat_minor": 0,
  "metadata": {
    "colab": {
      "provenance": []
    },
    "kernelspec": {
      "name": "python3",
      "display_name": "Python 3"
    },
    "language_info": {
      "name": "python"
    }
  },
  "cells": [
    {
      "cell_type": "code",
      "execution_count": null,
      "metadata": {
        "id": "dVh5c4w6zTMo",
        "colab": {
          "base_uri": "https://localhost:8080/"
        },
        "outputId": "75a5bc5f-fe76-44f5-b6d7-952da50db4ba"
      },
      "outputs": [
        {
          "name": "stdout",
          "output_type": "stream",
          "text": [
            "Enter a magnitude value.0.5\n"
          ]
        }
      ],
      "source": [
        "from warnings import filterwarnings\n",
        "#Import the urllib.request and json libraries\n",
        "from urllib import request\n",
        "import json\n",
        "import csv\n",
        "####Your code here....\n",
        "\n",
        "\n",
        "#Prompt the user to input a magnitude parameter of type floating point.\n",
        "\n",
        "#Limit the range that user can input to realistic magnitudes (check the magnitude entered and if it doesn't fall within a range, print out a message and prompt again.)\n",
        "#Provide a prompt to the user to end the program or input another magnitude number (this code can be in a later cell).\n",
        "\n",
        "####Your code here....\n",
        "flag = True\n",
        "while (flag):\n",
        "  mag = float(input(\"Enter a magnitude value.\"))\n",
        "  if mag > 0.0 and mag < 5.0:\n",
        "    flag = False\n"
      ]
    },
    {
      "cell_type": "code",
      "source": [
        "def printResults(data):\n",
        "\n",
        "  # 1.  Use the json \"loads\" api  to load the string data into a dictionary\n",
        "####Your code here....\n",
        "  dataDict = json.loads(data)\n",
        "  # 2.  Access the contents of the JSON data\n",
        "  #     and print out the metadata title\n",
        "####Your code here....\n",
        "  for earthquake in dataDict[\"features\"]:\n",
        "    if earthquake[\"properties\"][\"mag\"] >= mag:\n",
        "       print(earthquake[\"properties\"][\"mag\"])\n",
        "\n",
        "resp = request.urlopen(\"https://earthquake.usgs.gov/earthquakes/feed/v1.0/summary/all_hour.geojson\")\n",
        "dataJSON = resp.read().decode(\"utf-8\")\n",
        "printResults(dataJSON)\n"
      ],
      "metadata": {
        "id": "v2di-xkyzoU8",
        "colab": {
          "base_uri": "https://localhost:8080/"
        },
        "outputId": "dad9a640-66e3-41a2-e31a-463fe620b685"
      },
      "execution_count": null,
      "outputs": [
        {
          "output_type": "stream",
          "name": "stdout",
          "text": [
            "0.69\n",
            "0.81\n"
          ]
        }
      ]
    },
    {
      "cell_type": "code",
      "source": [
        "def printResults2(data):\n",
        "\n",
        "  # 1.  Use the json \"loads\" api  to load the string data into a dictionary\n",
        "####Your code here....\n",
        "  dataDict = json.loads(data)\n",
        "  returnList = [[\"Location\", \"Mag\"]]\n",
        "  # 2.  Access the contents of the JSON data\n",
        "  #     and print out the metadata title\n",
        "####Your code here....\n",
        "  for earthquake in dataDict[\"features\"]:\n",
        "    if earthquake[\"properties\"][\"mag\"] >= mag:\n",
        "      #  print(earthquake[\"properties\"][\"mag\"])\n",
        "      returnList.append([earthquake[\"properties\"][\"place\"], earthquake[\"properties\"][\"mag\"]])\n",
        "  return returnList\n",
        "# print(printResults2(dataJSON))\n",
        "data = printResults2(dataJSON)\n",
        "fileOpen = open(\"earthquakes.csv\", 'w')\n",
        "dataWriter = csv.writer(fileOpen, delimiter = ',')\n",
        "for list in data:\n",
        "  dataWriter.writerow(list)"
      ],
      "metadata": {
        "id": "858YQOaGz9fV"
      },
      "execution_count": 12,
      "outputs": []
    }
  ]
}