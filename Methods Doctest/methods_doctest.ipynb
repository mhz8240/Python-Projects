{
  "nbformat": 4,
  "nbformat_minor": 0,
  "metadata": {
    "colab": {
      "provenance": [],
      "authorship_tag": "ABX9TyNjJWk85lWNuar5T/9nELBS",
      "include_colab_link": true
    },
    "kernelspec": {
      "name": "python3",
      "display_name": "Python 3"
    },
    "language_info": {
      "name": "python"
    }
  },
  "cells": [
    {
      "cell_type": "markdown",
      "metadata": {
        "id": "view-in-github",
        "colab_type": "text"
      },
      "source": [
        "<a href=\"https://colab.research.google.com/github/mhz8240/Python-Projects/blob/main/methods_doctest.ipynb\" target=\"_parent\"><img src=\"https://colab.research.google.com/assets/colab-badge.svg\" alt=\"Open In Colab\"/></a>"
      ]
    },
    {
      "cell_type": "markdown",
      "source": [
        "Problem 1"
      ],
      "metadata": {
        "id": "-KknA0jKrhRB"
      }
    },
    {
      "cell_type": "code",
      "execution_count": 1,
      "metadata": {
        "colab": {
          "base_uri": "https://localhost:8080/"
        },
        "id": "3q6AhlguOSxy",
        "outputId": "a0c2e074-2001-4cf3-e958-98584a510be1"
      },
      "outputs": [
        {
          "output_type": "stream",
          "name": "stdout",
          "text": [
            "Age >= 11 and Age <= 20\n",
            "Age >= 21 and Age <= 64\n",
            "Age < 5\n",
            "Age >= 5 and Age <= 10\n",
            "Age >= 21 and Age <= 64\n",
            "Age > 64\n"
          ]
        }
      ],
      "source": [
        "def ageCategory1(age):\n",
        "  if (age<5):\n",
        "    print(\"Age < 5\")\n",
        "  elif (age<=10):\n",
        "    print(\"Age >= 5 and Age <= 10\")\n",
        "  elif (age<=20):\n",
        "    print(\"Age >= 11 and Age <= 20\")\n",
        "  elif (age<=64):\n",
        "    print(\"Age >= 21 and Age <= 64\")\n",
        "  else:\n",
        "    print(\"Age > 64\")\n",
        "ageCategory1(12)\n",
        "ageCategory1(24)\n",
        "ageCategory1(1)\n",
        "ageCategory1(8)\n",
        "ageCategory1(64)\n",
        "ageCategory1(65)"
      ]
    },
    {
      "cell_type": "markdown",
      "source": [
        "Problem 2"
      ],
      "metadata": {
        "id": "zfYknuQBF9cr"
      }
    },
    {
      "cell_type": "code",
      "source": [
        "import doctest\n",
        "def ageCategory2(age):\n",
        "  s = \"\"\n",
        "  if (age<5):\n",
        "    s = \"Age < 5\"\n",
        "  elif (age<=10):\n",
        "    s = \"Age >= 5 and Age <= 10\"\n",
        "  elif (age<=20):\n",
        "    s = \"Age >= 11 and Age <= 20\"\n",
        "  elif (age<=64):\n",
        "    s = \"Age >= 21 and Age <= 64\"\n",
        "  else:\n",
        "    s = \"Age > 64\"\n",
        "  return s\n",
        "print(ageCategory2(12))\n",
        "print(ageCategory2(24))\n",
        "print(ageCategory2(1))\n",
        "print(ageCategory2(8))\n",
        "print(ageCategory2(64))\n",
        "print(ageCategory2(65))\n",
        "\"\"\"\n",
        "  >>> print(ageCategory2(12))\n",
        "  Age >= 11 and Age <= 20\n",
        "  >>> print(ageCategory2(45))\n",
        "  Age >= 21 and Age <= 64\n",
        "  >>> print(ageCategory2(9))\n",
        "  Age >= 5 and Age <= 10\n",
        "\"\"\"\n",
        "doctest.testmod()"
      ],
      "metadata": {
        "colab": {
          "base_uri": "https://localhost:8080/"
        },
        "id": "J1_vp1l1OfPH",
        "outputId": "33284623-607f-4d4d-cdbb-172a2003743c"
      },
      "execution_count": 2,
      "outputs": [
        {
          "output_type": "stream",
          "name": "stderr",
          "text": [
            "\n",
            "PYDEV DEBUGGER WARNING:\n",
            "sys.settrace() should not be used when the debugger is being used.\n",
            "This may cause the debugger to stop working correctly.\n",
            "If this is needed, please check: \n",
            "http://pydev.blogspot.com/2007/06/why-cant-pydev-debugger-work-with.html\n",
            "to see how to restore the debug tracing back correctly.\n",
            "Call Location:\n",
            "  File \"/usr/lib/python3.10/doctest.py\", line 1501, in run\n",
            "    sys.settrace(save_trace)\n",
            "\n"
          ]
        },
        {
          "output_type": "stream",
          "name": "stdout",
          "text": [
            "Age >= 11 and Age <= 20\n",
            "Age >= 21 and Age <= 64\n",
            "Age < 5\n",
            "Age >= 5 and Age <= 10\n",
            "Age >= 21 and Age <= 64\n",
            "Age > 64\n"
          ]
        },
        {
          "output_type": "execute_result",
          "data": {
            "text/plain": [
              "TestResults(failed=0, attempted=3)"
            ]
          },
          "metadata": {},
          "execution_count": 2
        }
      ]
    },
    {
      "cell_type": "markdown",
      "source": [
        "Problem 3"
      ],
      "metadata": {
        "id": "SgLt9zc5HOzm"
      }
    },
    {
      "cell_type": "code",
      "source": [
        "def ageCategory3(*profile):\n",
        "  #assumes two pairs\n",
        "  s1 = \"\"\n",
        "  if (profile[1]<5):\n",
        "    s1 = profile[0] + \", your age is less than 5.\"\n",
        "  elif (profile[1]<=10):\n",
        "    s1 = profile[0] + \", your age is between 5 and 10.\"\n",
        "  elif (profile[1]<=20):\n",
        "   s1 = profile[0] + \", your age is between 11 and 20.\"\n",
        "  elif (profile[1]<=64):\n",
        "    s1 = profile[0] + \", your age is between 21 and 64.\"\n",
        "  else:\n",
        "    s1 = profile[0] + \", your age is greater than 64.\"\n",
        "  s2 = \"\"\n",
        "  if (profile[3]<5):\n",
        "    s2 = profile[2] + \", your age is less than 5.\"\n",
        "  elif (profile[3]<=10):\n",
        "    s2 = profile[2] + \", your age is between 5 and 10.\"\n",
        "  elif (profile[3]<=20):\n",
        "   s2 = profile[2] + \", your age is between 11 and 20.\"\n",
        "  elif (profile[3]<=64):\n",
        "    s2 = profile[2] + \", your age is between 21 and 64.\"\n",
        "  else:\n",
        "    s2 = profile[2] + \", your age is greater than 64.\"\n",
        "  return s1, s2\n",
        "\n",
        "for s in ageCategory3(\"Jim\", 22, \"Jane\", 3):\n",
        "  print(s)\n",
        "for s in ageCategory3(\"Joe\", 77, \"John\", 13):\n",
        "  print(s)\n",
        "\n",
        "\"\"\"\n",
        "  >>> print(ageCategory3(\"Jim\", 22, \"Jane\", 3)[0])\n",
        "  Jim, your age is between 21 and 64.\n",
        "  >>> print(ageCategory3(\"Jim\", 22, \"Jane\", 3)[1])\n",
        "  Jane, your age is less than 5.\n",
        "  >>> print(ageCategory3(\"Joe\", 77, \"John\", 13)[0])\n",
        "  Joe, your age is greater than 64.\n",
        "  >>> print(ageCategory3(\"Joe\", 77, \"John\", 13)[1])\n",
        "  John, your age is between 11 and 20.\n",
        "\"\"\"\n",
        "doctest.testmod()"
      ],
      "metadata": {
        "colab": {
          "base_uri": "https://localhost:8080/"
        },
        "id": "z7LAQMf4HRN4",
        "outputId": "a9a1c316-e5d4-48e4-ad7d-812b9ff50c44"
      },
      "execution_count": 3,
      "outputs": [
        {
          "output_type": "stream",
          "name": "stdout",
          "text": [
            "Jim, your age is between 21 and 64.\n",
            "Jane, your age is less than 5.\n",
            "Joe, your age is greater than 64.\n",
            "John, your age is between 11 and 20.\n"
          ]
        },
        {
          "output_type": "execute_result",
          "data": {
            "text/plain": [
              "TestResults(failed=0, attempted=4)"
            ]
          },
          "metadata": {},
          "execution_count": 3
        }
      ]
    }
  ]
}