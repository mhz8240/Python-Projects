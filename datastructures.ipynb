{
  "nbformat": 4,
  "nbformat_minor": 0,
  "metadata": {
    "colab": {
      "provenance": [],
      "authorship_tag": "ABX9TyPGcVFqpk09ZTyOc/djBS8M",
      "include_colab_link": true
    },
    "kernelspec": {
      "name": "python3",
      "display_name": "Python 3"
    },
    "language_info": {
      "name": "python"
    }
  },
  "cells": [
    {
      "cell_type": "markdown",
      "metadata": {
        "id": "view-in-github",
        "colab_type": "text"
      },
      "source": [
        "<a href=\"https://colab.research.google.com/github/mhz8240/Python-Projects/blob/main/datastructures.ipynb\" target=\"_parent\"><img src=\"https://colab.research.google.com/assets/colab-badge.svg\" alt=\"Open In Colab\"/></a>"
      ]
    },
    {
      "cell_type": "markdown",
      "source": [
        "Problem 1 - Lists\n"
      ],
      "metadata": {
        "id": "i7nYMF0sOgUj"
      }
    },
    {
      "cell_type": "code",
      "execution_count": null,
      "metadata": {
        "colab": {
          "base_uri": "https://localhost:8080/"
        },
        "id": "pCMYJH4COdmg",
        "outputId": "c46b2a1f-f40a-489e-ecea-c314a2cf1101"
      },
      "outputs": [
        {
          "output_type": "stream",
          "name": "stdout",
          "text": [
            "What is your name?Michael\n",
            "What is your age?17\n",
            "What is your GPA?4.40\n",
            "What is your name?Joe\n",
            "What is your age?27\n",
            "What is your GPA?3.50\n",
            "What is your name?Johnny\n",
            "What is your age?21\n",
            "What is your GPA?3.80\n",
            "What is your name?Justin\n",
            "What is your age?18\n",
            "What is your GPA?4.50\n",
            "What is your name?Jeremy\n",
            "What is your age?24\n",
            "What is your GPA?4.00\n",
            "Enter a category of interest: \"0\" for name, \"1\" for age, \"2\" for GPA2\n",
            "Name: Michael\n",
            "Age: 17\n",
            "GPA: 4.40\n",
            "Name: Joe\n",
            "Age: 27\n",
            "GPA: 3.50\n",
            "Name: Johnny\n",
            "Age: 21\n",
            "GPA: 3.80\n",
            "Category of interest: 4.40\n",
            "Category of interest: 3.50\n",
            "Category of interest: 3.80\n"
          ]
        }
      ],
      "source": [
        "list1 = [input(\"What is your name?\"), input(\"What is your age?\"), input(\"What is your GPA?\")]\n",
        "list2 = [input(\"What is your name?\"), input(\"What is your age?\"), input(\"What is your GPA?\")]\n",
        "list3 = [input(\"What is your name?\"), input(\"What is your age?\"), input(\"What is your GPA?\")]\n",
        "list4 = [input(\"What is your name?\"), input(\"What is your age?\"), input(\"What is your GPA?\")]\n",
        "list5 = [input(\"What is your name?\"), input(\"What is your age?\"), input(\"What is your GPA?\")]\n",
        "interviewees = [list1, list2, list3, list4, list5]\n",
        "interest = int(input(\"Enter a category of interest: \\\"0\\\" for name, \\\"1\\\" for age, \\\"2\\\" for GPA\"))\n",
        "employees = [list1, list2, list3]\n",
        "for employee in employees:\n",
        "  print(\"Name: \" + employee[0])\n",
        "  print(\"Age: \" + employee[1])\n",
        "  print(\"GPA: \" + employee[2])\n",
        "for employee in employees:\n",
        "  print(\"Category of interest: \" + employee[interest])\n"
      ]
    },
    {
      "cell_type": "markdown",
      "source": [
        "Problem 2(Dictionary)\n"
      ],
      "metadata": {
        "id": "TtLpTea_YW29"
      }
    },
    {
      "cell_type": "code",
      "source": [
        "import doctest\n",
        "myStoreInventory = {\"Balls\": {\"Basketballs\": 20, \"Soocer balls\": 25, \"Baseballs\": 10},\\\n",
        "                    \"Clothing\": {\"Shin Guards\": 12, \"Soccer Cleats\": 60, \"Headband\": 15},\\\n",
        "                    \"Equipment\": {\"Basketball Hoop\": 150, \"Baseball Bat\": 25, \"Soccer Goal\": 50}}\n",
        "print(myStoreInventory)\n",
        "shoppingCart = [myStoreInventory[\"Balls\"][\"Basketballs\"], myStoreInventory[\"Clothing\"][\"Headband\"], myStoreInventory[\"Equipment\"][\"Basketball Hoop\"]]\n",
        "total = 1.08 * sum(shoppingCart)\n",
        "\n",
        "\"\"\"\n",
        "\n",
        "   >>> print(total)\n",
        "   199.8\n",
        "\"\"\"\n",
        "doctest.testmod()\n"
      ],
      "metadata": {
        "colab": {
          "base_uri": "https://localhost:8080/"
        },
        "id": "RSupt0znYZGs",
        "outputId": "7af8271b-c2b7-427e-dbd6-470a63e16c32"
      },
      "execution_count": null,
      "outputs": [
        {
          "output_type": "stream",
          "name": "stdout",
          "text": [
            "{'Balls': {'Basketballs': 20, 'Soocer balls': 25, 'Baseballs': 10}, 'Clothing': {'Shin Guards': 12, 'Soccer Cleats': 60, 'Headband': 15}, 'Equipment': {'Basketball Hoop': 150, 'Baseball Bat': 25, 'Soccer Goal': 50}}\n"
          ]
        },
        {
          "output_type": "execute_result",
          "data": {
            "text/plain": [
              "TestResults(failed=0, attempted=1)"
            ]
          },
          "metadata": {},
          "execution_count": 18
        }
      ]
    },
    {
      "cell_type": "code",
      "source": [],
      "metadata": {
        "id": "WjEf-wa2aCTJ"
      },
      "execution_count": null,
      "outputs": []
    },
    {
      "cell_type": "markdown",
      "source": [
        "Problem 3(Queue)"
      ],
      "metadata": {
        "id": "WZGhrhlGgYra"
      }
    },
    {
      "cell_type": "code",
      "source": [
        "list = []\n",
        "print(\"Welcome to the queue task list maker!\")\n",
        "while (True):\n",
        "  number = int(input(\"What would you like to do?\\n 1: add a task\\n 2: look at the first task\\n 3: complete(remove)the first task\\\n",
        "  \\n 4: clear the tasks\\n 5: exit\\n\"))\n",
        "  if number == 1:\n",
        "    task = input(\"Add your task:\\n\")\n",
        "    list.append(task)\n",
        "    print(\"Task \" + task + \" added!\")\n",
        "  elif number == 2:\n",
        "    if (len(list) > 0):\n",
        "      print(\"Your first task is to \" + list[0])\n",
        "    else:\n",
        "      print(\"No tasks in the list!\")\n",
        "  elif number == 3:\n",
        "    if (len(list) > 0):\n",
        "      task = list.pop(0)\n",
        "      print(\"You removed the task \" + task)\n",
        "    else:\n",
        "      print(\"No tasks in the list!\")\n",
        "  elif number == 4:\n",
        "    list.clear()\n",
        "    print(\"All the tasks are cleared!\")\n",
        "  else:\n",
        "    print(\"Goodbye!\")\n",
        "    break\n",
        "\n",
        "\n",
        "\n"
      ],
      "metadata": {
        "colab": {
          "base_uri": "https://localhost:8080/"
        },
        "id": "iq7DFJD2hWLq",
        "outputId": "55058230-53be-48ae-8a0b-a13fc6e4030a"
      },
      "execution_count": null,
      "outputs": [
        {
          "output_type": "stream",
          "name": "stdout",
          "text": [
            "Welcome to the queue task list maker!\n",
            "What would you like to do?\n",
            " 1: add a task\n",
            " 2: look at the first task\n",
            " 3: complete(remove)the first task  \n",
            " 4: clear the tasks\n",
            " 5: exit\n",
            "1\n",
            "Add your task:\n",
            "finish homework\n",
            "Task finish homework added!\n",
            "What would you like to do?\n",
            " 1: add a task\n",
            " 2: look at the first task\n",
            " 3: complete(remove)the first task  \n",
            " 4: clear the tasks\n",
            " 5: exit\n",
            "1\n",
            "Add your task:\n",
            "go to gym\n",
            "Task go to gym added!\n",
            "What would you like to do?\n",
            " 1: add a task\n",
            " 2: look at the first task\n",
            " 3: complete(remove)the first task  \n",
            " 4: clear the tasks\n",
            " 5: exit\n",
            "1\n",
            "Add your task:\n",
            "wash car\n",
            "Task wash car added!\n",
            "What would you like to do?\n",
            " 1: add a task\n",
            " 2: look at the first task\n",
            " 3: complete(remove)the first task  \n",
            " 4: clear the tasks\n",
            " 5: exit\n",
            "2\n",
            "Your first task is to finish homework\n",
            "What would you like to do?\n",
            " 1: add a task\n",
            " 2: look at the first task\n",
            " 3: complete(remove)the first task  \n",
            " 4: clear the tasks\n",
            " 5: exit\n",
            "3\n",
            "You removed the task finish homework\n",
            "What would you like to do?\n",
            " 1: add a task\n",
            " 2: look at the first task\n",
            " 3: complete(remove)the first task  \n",
            " 4: clear the tasks\n",
            " 5: exit\n",
            "2\n",
            "Your first task is to go to gym\n",
            "What would you like to do?\n",
            " 1: add a task\n",
            " 2: look at the first task\n",
            " 3: complete(remove)the first task  \n",
            " 4: clear the tasks\n",
            " 5: exit\n",
            "4\n",
            "All the tasks are cleared!\n",
            "What would you like to do?\n",
            " 1: add a task\n",
            " 2: look at the first task\n",
            " 3: complete(remove)the first task  \n",
            " 4: clear the tasks\n",
            " 5: exit\n",
            "2\n",
            "No tasks in the list!\n",
            "What would you like to do?\n",
            " 1: add a task\n",
            " 2: look at the first task\n",
            " 3: complete(remove)the first task  \n",
            " 4: clear the tasks\n",
            " 5: exit\n",
            "5\n",
            "Goodbye!\n"
          ]
        }
      ]
    }
  ]
}