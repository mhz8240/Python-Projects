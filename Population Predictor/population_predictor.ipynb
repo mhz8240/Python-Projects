{
  "nbformat": 4,
  "nbformat_minor": 0,
  "metadata": {
    "colab": {
      "provenance": []
    },
    "kernelspec": {
      "name": "python3",
      "display_name": "Python 3"
    },
    "language_info": {
      "name": "python"
    }
  },
  "cells": [
    {
      "cell_type": "code",
      "execution_count": null,
      "metadata": {
        "id": "X-dv3n9bs7OJ"
      },
      "outputs": [],
      "source": [
        "import pandas as pd\n",
        "from sklearn.neural_network import MLPRegressor\n",
        "from sklearn import model_selection\n",
        "from sklearn.metrics import r2_score\n",
        "\n",
        "\n"
      ]
    },
    {
      "cell_type": "code",
      "source": [
        "population = pd.read_csv('population.csv')\n",
        "#filter out non-country data\n",
        "population = population.loc[0:216]\n",
        "population = population.drop(index=213)\n",
        "population.reset_index(drop=True,inplace=True)\n",
        "#making the dataset, x(30 years) and y(next 10 years)\n",
        "first_thirty = []\n",
        "last_fifteen = []\n",
        "last_thirty = []\n",
        "\n",
        "for i in population.index:\n",
        "  first_list = list(population.iloc[i,12:47].astype(float))\n",
        "  second_list = list(population.iloc[i,22:57].astype(float))\n",
        "  third_list = list(population.iloc[i,32:67].astype(float))\n",
        "  for j in range(16,46,3):\n",
        "    first_list.append(float(population.iloc[i,j+3]) - float(population.iloc[i,j]))\n",
        "  for j in range(26,56,3):\n",
        "    second_list.append(float(population.iloc[i,j+3]) - float(population.iloc[i,j]))\n",
        "  for j in range(36,66,3):\n",
        "    third_list.append(float(population.iloc[i,j+3]) - float(population.iloc[i,j]))\n",
        "  for j in range(16,46,5):\n",
        "    first_list.append(float(population.iloc[i,j+5]) - float(population.iloc[i,j]))\n",
        "    first_list.append((float(population.iloc[i,j+5]) - float(population.iloc[i,j])) / float(population.iloc[i,j]))\n",
        "  for j in range(26,56,5):\n",
        "    second_list.append(float(population.iloc[i,j+5]) - float(population.iloc[i,j]))\n",
        "    second_list.append((float(population.iloc[i,j+5]) - float(population.iloc[i,j])) / float(population.iloc[i,j]))\n",
        "  for j in range(36,66,5):\n",
        "    third_list.append(float(population.iloc[i,j+5]) - float(population.iloc[i,j]))\n",
        "    third_list.append((float(population.iloc[i,j+5]) - float(population.iloc[i,j])) / float(population.iloc[i,j]))\n",
        "  last_five_years_first = first_list[-2]/5\n",
        "  last_five_years_second = second_list[-2]/5\n",
        "  last_five_years_third = third_list[-2]/5\n",
        "  last_ten_years_first = (first_list[-2]+first_list[-4])/10\n",
        "  last_ten_years_second = (second_list[-2]+second_list[-4])/10\n",
        "  last_ten_years_third = (third_list[-2]+third_list[-4])/10\n",
        "  for j in range(1,11):\n",
        "    if j <= 5:\n",
        "      first_list.append((last_five_years_first * j) + first_list[34])\n",
        "      second_list.append((last_five_years_second * j) + second_list[34])\n",
        "      third_list.append((last_five_years_third * j) + third_list[34])\n",
        "    else:\n",
        "      first_list.append((last_ten_years_first * j) + first_list[34])\n",
        "      second_list.append((last_ten_years_second * j) + second_list[34])\n",
        "      third_list.append((last_ten_years_third * j) + third_list[34])\n",
        "\n",
        "\n",
        "  first_thirty.append(first_list)\n",
        "  first_thirty.append(second_list)\n",
        "  last_fifteen.append(list(population.iloc[i,47:57].astype(float)))\n",
        "  last_fifteen.append(list(population.iloc[i,57:67].astype(float)))\n",
        "  last_thirty.append(third_list)\n",
        "\n",
        "\n"
      ],
      "metadata": {
        "id": "r7G7G52Ztw65"
      },
      "execution_count": null,
      "outputs": []
    },
    {
      "cell_type": "code",
      "source": [
        "first_thirty[422]"
      ],
      "metadata": {
        "colab": {
          "base_uri": "https://localhost:8080/"
        },
        "id": "GMXLzxVAGm6S",
        "outputId": "0a0e1011-e0d4-42fc-9b3c-a7aec30ae187"
      },
      "execution_count": null,
      "outputs": [
        {
          "output_type": "execute_result",
          "data": {
            "text/plain": [
              "[40145287.0,\n",
              " 41015865.0,\n",
              " 41928849.0,\n",
              " 42916624.0,\n",
              " 43906019.0,\n",
              " 44891281.0,\n",
              " 45898698.0,\n",
              " 46969616.0,\n",
              " 48163573.0,\n",
              " 49418150.0,\n",
              " 50701458.0,\n",
              " 51831389.0,\n",
              " 52968270.0,\n",
              " 54280394.0,\n",
              " 55632153.0,\n",
              " 57011444.0,\n",
              " 58406863.0,\n",
              " 59811313.0,\n",
              " 61221107.0,\n",
              " 62630787.0,\n",
              " 64037514.0,\n",
              " 65466361.0,\n",
              " 66912613.0,\n",
              " 68358820.0,\n",
              " 69788747.0,\n",
              " 71176405.0,\n",
              " 72501087.0,\n",
              " 73759110.0,\n",
              " 74946448.0,\n",
              " 76058603.0,\n",
              " 77128424.0,\n",
              " 78123713.0,\n",
              " 79001142.0,\n",
              " 79817777.0,\n",
              " 80642308.0,\n",
              " 3063597.0,\n",
              " 3731842.0,\n",
              " 3578936.0,\n",
              " 4126469.0,\n",
              " 4223924.0,\n",
              " 4281826.0,\n",
              " 4263792.0,\n",
              " 3770043.0,\n",
              " 3177265.0,\n",
              " 2518595.0,\n",
              " 5512131.0,\n",
              " 0.12554385766561985,\n",
              " 6214003.0,\n",
              " 0.12574333519162495,\n",
              " 6998634.0,\n",
              " 0.12580196204162725,\n",
              " 7157960.0,\n",
              " 0.11428820142400574,\n",
              " 6269856.0,\n",
              " 0.08984050107677101,\n",
              " 4583705.0,\n",
              " 0.060265437691512685,\n",
              " 81559049.0,\n",
              " 82475790.0,\n",
              " 83392531.0,\n",
              " 84309272.0,\n",
              " 85226013.0,\n",
              " 87154444.6,\n",
              " 88239800.7,\n",
              " 89325156.8,\n",
              " 90410512.9,\n",
              " 91495869.0]"
            ]
          },
          "metadata": {},
          "execution_count": 331
        }
      ]
    },
    {
      "cell_type": "code",
      "source": [
        "#creating and fitting the model\n",
        "x_train, x_test, y_train, y_test = model_selection.train_test_split(first_thirty, last_fifteen, test_size = 0.15, random_state=1)\n",
        "\n",
        "population_predictor = MLPRegressor( max_iter = 5000)\n",
        "population_predictor.fit(x_train, y_train)"
      ],
      "metadata": {
        "colab": {
          "base_uri": "https://localhost:8080/",
          "height": 74
        },
        "id": "41l2YhAgEZL9",
        "outputId": "13de1afd-e4da-4799-ffb9-edf7dbd43699"
      },
      "execution_count": null,
      "outputs": [
        {
          "output_type": "execute_result",
          "data": {
            "text/plain": [
              "MLPRegressor(max_iter=5000)"
            ],
            "text/html": [
              "<style>#sk-container-id-135 {color: black;background-color: white;}#sk-container-id-135 pre{padding: 0;}#sk-container-id-135 div.sk-toggleable {background-color: white;}#sk-container-id-135 label.sk-toggleable__label {cursor: pointer;display: block;width: 100%;margin-bottom: 0;padding: 0.3em;box-sizing: border-box;text-align: center;}#sk-container-id-135 label.sk-toggleable__label-arrow:before {content: \"▸\";float: left;margin-right: 0.25em;color: #696969;}#sk-container-id-135 label.sk-toggleable__label-arrow:hover:before {color: black;}#sk-container-id-135 div.sk-estimator:hover label.sk-toggleable__label-arrow:before {color: black;}#sk-container-id-135 div.sk-toggleable__content {max-height: 0;max-width: 0;overflow: hidden;text-align: left;background-color: #f0f8ff;}#sk-container-id-135 div.sk-toggleable__content pre {margin: 0.2em;color: black;border-radius: 0.25em;background-color: #f0f8ff;}#sk-container-id-135 input.sk-toggleable__control:checked~div.sk-toggleable__content {max-height: 200px;max-width: 100%;overflow: auto;}#sk-container-id-135 input.sk-toggleable__control:checked~label.sk-toggleable__label-arrow:before {content: \"▾\";}#sk-container-id-135 div.sk-estimator input.sk-toggleable__control:checked~label.sk-toggleable__label {background-color: #d4ebff;}#sk-container-id-135 div.sk-label input.sk-toggleable__control:checked~label.sk-toggleable__label {background-color: #d4ebff;}#sk-container-id-135 input.sk-hidden--visually {border: 0;clip: rect(1px 1px 1px 1px);clip: rect(1px, 1px, 1px, 1px);height: 1px;margin: -1px;overflow: hidden;padding: 0;position: absolute;width: 1px;}#sk-container-id-135 div.sk-estimator {font-family: monospace;background-color: #f0f8ff;border: 1px dotted black;border-radius: 0.25em;box-sizing: border-box;margin-bottom: 0.5em;}#sk-container-id-135 div.sk-estimator:hover {background-color: #d4ebff;}#sk-container-id-135 div.sk-parallel-item::after {content: \"\";width: 100%;border-bottom: 1px solid gray;flex-grow: 1;}#sk-container-id-135 div.sk-label:hover label.sk-toggleable__label {background-color: #d4ebff;}#sk-container-id-135 div.sk-serial::before {content: \"\";position: absolute;border-left: 1px solid gray;box-sizing: border-box;top: 0;bottom: 0;left: 50%;z-index: 0;}#sk-container-id-135 div.sk-serial {display: flex;flex-direction: column;align-items: center;background-color: white;padding-right: 0.2em;padding-left: 0.2em;position: relative;}#sk-container-id-135 div.sk-item {position: relative;z-index: 1;}#sk-container-id-135 div.sk-parallel {display: flex;align-items: stretch;justify-content: center;background-color: white;position: relative;}#sk-container-id-135 div.sk-item::before, #sk-container-id-135 div.sk-parallel-item::before {content: \"\";position: absolute;border-left: 1px solid gray;box-sizing: border-box;top: 0;bottom: 0;left: 50%;z-index: -1;}#sk-container-id-135 div.sk-parallel-item {display: flex;flex-direction: column;z-index: 1;position: relative;background-color: white;}#sk-container-id-135 div.sk-parallel-item:first-child::after {align-self: flex-end;width: 50%;}#sk-container-id-135 div.sk-parallel-item:last-child::after {align-self: flex-start;width: 50%;}#sk-container-id-135 div.sk-parallel-item:only-child::after {width: 0;}#sk-container-id-135 div.sk-dashed-wrapped {border: 1px dashed gray;margin: 0 0.4em 0.5em 0.4em;box-sizing: border-box;padding-bottom: 0.4em;background-color: white;}#sk-container-id-135 div.sk-label label {font-family: monospace;font-weight: bold;display: inline-block;line-height: 1.2em;}#sk-container-id-135 div.sk-label-container {text-align: center;}#sk-container-id-135 div.sk-container {/* jupyter's `normalize.less` sets `[hidden] { display: none; }` but bootstrap.min.css set `[hidden] { display: none !important; }` so we also need the `!important` here to be able to override the default hidden behavior on the sphinx rendered scikit-learn.org. See: https://github.com/scikit-learn/scikit-learn/issues/21755 */display: inline-block !important;position: relative;}#sk-container-id-135 div.sk-text-repr-fallback {display: none;}</style><div id=\"sk-container-id-135\" class=\"sk-top-container\"><div class=\"sk-text-repr-fallback\"><pre>MLPRegressor(max_iter=5000)</pre><b>In a Jupyter environment, please rerun this cell to show the HTML representation or trust the notebook. <br />On GitHub, the HTML representation is unable to render, please try loading this page with nbviewer.org.</b></div><div class=\"sk-container\" hidden><div class=\"sk-item\"><div class=\"sk-estimator sk-toggleable\"><input class=\"sk-toggleable__control sk-hidden--visually\" id=\"sk-estimator-id-135\" type=\"checkbox\" checked><label for=\"sk-estimator-id-135\" class=\"sk-toggleable__label sk-toggleable__label-arrow\">MLPRegressor</label><div class=\"sk-toggleable__content\"><pre>MLPRegressor(max_iter=5000)</pre></div></div></div></div></div>"
            ]
          },
          "metadata": {},
          "execution_count": 445
        }
      ]
    },
    {
      "cell_type": "code",
      "source": [
        "#validation\n",
        "y_pred = population_predictor.predict(x_test)\n",
        "score = population_predictor.score(x_test, y_test)\n",
        "r2_score_population = r2_score(y_test,y_pred)\n",
        "print(score, r2_score_population)"
      ],
      "metadata": {
        "colab": {
          "base_uri": "https://localhost:8080/"
        },
        "id": "2DvJwKRt0QO7",
        "outputId": "77cb1ec2-bf8e-4177-91eb-b455b63210bc"
      },
      "execution_count": null,
      "outputs": [
        {
          "output_type": "stream",
          "name": "stdout",
          "text": [
            "0.9998913483410025 0.9998913483410025\n"
          ]
        }
      ]
    },
    {
      "cell_type": "code",
      "source": [
        "#make population predictions for the next 15 years\n",
        "\n",
        "next_fifteen = population_predictor.predict(last_thirty)\n",
        "population_predictions = pd.DataFrame(next_fifteen, columns=range(2023,2033))\n",
        "population_predictions = population[['Country Name']].join(population_predictions)\n",
        "population_predictions[population_predictions['Country Name'] == 'Brazil']"
      ],
      "metadata": {
        "colab": {
          "base_uri": "https://localhost:8080/",
          "height": 118
        },
        "id": "iV8DepuDEgKB",
        "outputId": "58ff9872-75a6-4f64-de20-9ef86898c438"
      },
      "execution_count": null,
      "outputs": [
        {
          "output_type": "execute_result",
          "data": {
            "text/plain": [
              "   Country Name          2023          2024          2025          2026  \\\n",
              "26       Brazil  2.176532e+08  2.171807e+08  2.202505e+08  2.203484e+08   \n",
              "\n",
              "            2027          2028          2029          2030          2031  \\\n",
              "26  2.214378e+08  2.220048e+08  2.234269e+08  2.230967e+08  2.240999e+08   \n",
              "\n",
              "            2032  \n",
              "26  2.252162e+08  "
            ],
            "text/html": [
              "\n",
              "  <div id=\"df-62c0a5e6-8759-49a6-a5d5-c885e3cbaead\" class=\"colab-df-container\">\n",
              "    <div>\n",
              "<style scoped>\n",
              "    .dataframe tbody tr th:only-of-type {\n",
              "        vertical-align: middle;\n",
              "    }\n",
              "\n",
              "    .dataframe tbody tr th {\n",
              "        vertical-align: top;\n",
              "    }\n",
              "\n",
              "    .dataframe thead th {\n",
              "        text-align: right;\n",
              "    }\n",
              "</style>\n",
              "<table border=\"1\" class=\"dataframe\">\n",
              "  <thead>\n",
              "    <tr style=\"text-align: right;\">\n",
              "      <th></th>\n",
              "      <th>Country Name</th>\n",
              "      <th>2023</th>\n",
              "      <th>2024</th>\n",
              "      <th>2025</th>\n",
              "      <th>2026</th>\n",
              "      <th>2027</th>\n",
              "      <th>2028</th>\n",
              "      <th>2029</th>\n",
              "      <th>2030</th>\n",
              "      <th>2031</th>\n",
              "      <th>2032</th>\n",
              "    </tr>\n",
              "  </thead>\n",
              "  <tbody>\n",
              "    <tr>\n",
              "      <th>26</th>\n",
              "      <td>Brazil</td>\n",
              "      <td>2.176532e+08</td>\n",
              "      <td>2.171807e+08</td>\n",
              "      <td>2.202505e+08</td>\n",
              "      <td>2.203484e+08</td>\n",
              "      <td>2.214378e+08</td>\n",
              "      <td>2.220048e+08</td>\n",
              "      <td>2.234269e+08</td>\n",
              "      <td>2.230967e+08</td>\n",
              "      <td>2.240999e+08</td>\n",
              "      <td>2.252162e+08</td>\n",
              "    </tr>\n",
              "  </tbody>\n",
              "</table>\n",
              "</div>\n",
              "    <div class=\"colab-df-buttons\">\n",
              "\n",
              "  <div class=\"colab-df-container\">\n",
              "    <button class=\"colab-df-convert\" onclick=\"convertToInteractive('df-62c0a5e6-8759-49a6-a5d5-c885e3cbaead')\"\n",
              "            title=\"Convert this dataframe to an interactive table.\"\n",
              "            style=\"display:none;\">\n",
              "\n",
              "  <svg xmlns=\"http://www.w3.org/2000/svg\" height=\"24px\" viewBox=\"0 -960 960 960\">\n",
              "    <path d=\"M120-120v-720h720v720H120Zm60-500h600v-160H180v160Zm220 220h160v-160H400v160Zm0 220h160v-160H400v160ZM180-400h160v-160H180v160Zm440 0h160v-160H620v160ZM180-180h160v-160H180v160Zm440 0h160v-160H620v160Z\"/>\n",
              "  </svg>\n",
              "    </button>\n",
              "\n",
              "  <style>\n",
              "    .colab-df-container {\n",
              "      display:flex;\n",
              "      gap: 12px;\n",
              "    }\n",
              "\n",
              "    .colab-df-convert {\n",
              "      background-color: #E8F0FE;\n",
              "      border: none;\n",
              "      border-radius: 50%;\n",
              "      cursor: pointer;\n",
              "      display: none;\n",
              "      fill: #1967D2;\n",
              "      height: 32px;\n",
              "      padding: 0 0 0 0;\n",
              "      width: 32px;\n",
              "    }\n",
              "\n",
              "    .colab-df-convert:hover {\n",
              "      background-color: #E2EBFA;\n",
              "      box-shadow: 0px 1px 2px rgba(60, 64, 67, 0.3), 0px 1px 3px 1px rgba(60, 64, 67, 0.15);\n",
              "      fill: #174EA6;\n",
              "    }\n",
              "\n",
              "    .colab-df-buttons div {\n",
              "      margin-bottom: 4px;\n",
              "    }\n",
              "\n",
              "    [theme=dark] .colab-df-convert {\n",
              "      background-color: #3B4455;\n",
              "      fill: #D2E3FC;\n",
              "    }\n",
              "\n",
              "    [theme=dark] .colab-df-convert:hover {\n",
              "      background-color: #434B5C;\n",
              "      box-shadow: 0px 1px 3px 1px rgba(0, 0, 0, 0.15);\n",
              "      filter: drop-shadow(0px 1px 2px rgba(0, 0, 0, 0.3));\n",
              "      fill: #FFFFFF;\n",
              "    }\n",
              "  </style>\n",
              "\n",
              "    <script>\n",
              "      const buttonEl =\n",
              "        document.querySelector('#df-62c0a5e6-8759-49a6-a5d5-c885e3cbaead button.colab-df-convert');\n",
              "      buttonEl.style.display =\n",
              "        google.colab.kernel.accessAllowed ? 'block' : 'none';\n",
              "\n",
              "      async function convertToInteractive(key) {\n",
              "        const element = document.querySelector('#df-62c0a5e6-8759-49a6-a5d5-c885e3cbaead');\n",
              "        const dataTable =\n",
              "          await google.colab.kernel.invokeFunction('convertToInteractive',\n",
              "                                                    [key], {});\n",
              "        if (!dataTable) return;\n",
              "\n",
              "        const docLinkHtml = 'Like what you see? Visit the ' +\n",
              "          '<a target=\"_blank\" href=https://colab.research.google.com/notebooks/data_table.ipynb>data table notebook</a>'\n",
              "          + ' to learn more about interactive tables.';\n",
              "        element.innerHTML = '';\n",
              "        dataTable['output_type'] = 'display_data';\n",
              "        await google.colab.output.renderOutput(dataTable, element);\n",
              "        const docLink = document.createElement('div');\n",
              "        docLink.innerHTML = docLinkHtml;\n",
              "        element.appendChild(docLink);\n",
              "      }\n",
              "    </script>\n",
              "  </div>\n",
              "\n",
              "    </div>\n",
              "  </div>\n"
            ]
          },
          "metadata": {},
          "execution_count": 454
        }
      ]
    },
    {
      "cell_type": "code",
      "source": [
        "last_thirty[26]"
      ],
      "metadata": {
        "colab": {
          "base_uri": "https://localhost:8080/"
        },
        "id": "9K_AdXoCHm9P",
        "outputId": "e8d07bf1-b421-4a5a-c2ef-55289b5ec898"
      },
      "execution_count": null,
      "outputs": [
        {
          "output_type": "execute_result",
          "data": {
            "text/plain": [
              "[145253973.0,\n",
              " 148003411.0,\n",
              " 150706446.0,\n",
              " 153336445.0,\n",
              " 155900790.0,\n",
              " 158440875.0,\n",
              " 160980472.0,\n",
              " 163515328.0,\n",
              " 166037122.0,\n",
              " 168546707.0,\n",
              " 171039804.0,\n",
              " 173486281.0,\n",
              " 175873720.0,\n",
              " 178211881.0,\n",
              " 180476685.0,\n",
              " 182629278.0,\n",
              " 184722043.0,\n",
              " 186797334.0,\n",
              " 188820682.0,\n",
              " 190779453.0,\n",
              " 192672317.0,\n",
              " 194517549.0,\n",
              " 196353492.0,\n",
              " 198185302.0,\n",
              " 199977707.0,\n",
              " 201721767.0,\n",
              " 203459650.0,\n",
              " 205188205.0,\n",
              " 206859578.0,\n",
              " 208504960.0,\n",
              " 210166592.0,\n",
              " 211782878.0,\n",
              " 213196304.0,\n",
              " 214326223.0,\n",
              " 215313498.0,\n",
              " 7614538.0,\n",
              " 7524476.0,\n",
              " 7172077.0,\n",
              " 6510162.0,\n",
              " 6057410.0,\n",
              " 5574039.0,\n",
              " 5368275.0,\n",
              " 5137811.0,\n",
              " 4923300.0,\n",
              " 3530620.0,\n",
              " 12645917.0,\n",
              " 0.08111515663262514,\n",
              " 11929978.0,\n",
              " 0.07078143626976942,\n",
              " 10302768.0,\n",
              " 0.057086420885888944,\n",
              " 9198254.0,\n",
              " 0.048214070516283535,\n",
              " 8527253.0,\n",
              " 0.04264101798106926,\n",
              " 6808538.0,\n",
              " 0.032654081706257734,\n",
              " 216675205.6,\n",
              " 218036913.2,\n",
              " 219398620.8,\n",
              " 220760328.4,\n",
              " 222122036.0,\n",
              " 224514972.6,\n",
              " 226048551.7,\n",
              " 227582130.8,\n",
              " 229115709.9,\n",
              " 230649289.0]"
            ]
          },
          "metadata": {},
          "execution_count": 456
        }
      ]
    }
  ]
}