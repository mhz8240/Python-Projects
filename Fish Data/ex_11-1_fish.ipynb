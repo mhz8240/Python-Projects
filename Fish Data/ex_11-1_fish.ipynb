{
 "cells": [
  {
   "cell_type": "markdown",
   "metadata": {},
   "source": [
    "# Exercise 11-1: Create a multiple regression"
   ]
  },
  {
   "cell_type": "markdown",
   "metadata": {},
   "source": [
    "## Import the data"
   ]
  },
  {
   "cell_type": "code",
   "execution_count": 1,
   "metadata": {},
   "outputs": [],
   "source": [
    "import pandas as pd\n",
    "import seaborn as sns\n",
    "from sklearn.linear_model import LinearRegression\n",
    "from sklearn.model_selection import train_test_split"
   ]
  },
  {
   "cell_type": "code",
   "execution_count": 2,
   "metadata": {},
   "outputs": [],
   "source": [
    "fish = pd.read_csv('Fish.csv')"
   ]
  },
  {
   "cell_type": "code",
   "execution_count": 3,
   "metadata": {},
   "outputs": [
    {
     "data": {
      "text/html": [
       "<div>\n",
       "<style scoped>\n",
       "    .dataframe tbody tr th:only-of-type {\n",
       "        vertical-align: middle;\n",
       "    }\n",
       "\n",
       "    .dataframe tbody tr th {\n",
       "        vertical-align: top;\n",
       "    }\n",
       "\n",
       "    .dataframe thead th {\n",
       "        text-align: right;\n",
       "    }\n",
       "</style>\n",
       "<table border=\"1\" class=\"dataframe\">\n",
       "  <thead>\n",
       "    <tr style=\"text-align: right;\">\n",
       "      <th></th>\n",
       "      <th>Species</th>\n",
       "      <th>Weight</th>\n",
       "      <th>Length1</th>\n",
       "      <th>Length2</th>\n",
       "      <th>Length3</th>\n",
       "      <th>Height</th>\n",
       "      <th>Width</th>\n",
       "    </tr>\n",
       "  </thead>\n",
       "  <tbody>\n",
       "    <tr>\n",
       "      <th>0</th>\n",
       "      <td>Bream</td>\n",
       "      <td>242.0</td>\n",
       "      <td>23.2</td>\n",
       "      <td>25.4</td>\n",
       "      <td>30.0</td>\n",
       "      <td>11.5200</td>\n",
       "      <td>4.0200</td>\n",
       "    </tr>\n",
       "    <tr>\n",
       "      <th>1</th>\n",
       "      <td>Bream</td>\n",
       "      <td>290.0</td>\n",
       "      <td>24.0</td>\n",
       "      <td>26.3</td>\n",
       "      <td>31.2</td>\n",
       "      <td>12.4800</td>\n",
       "      <td>4.3056</td>\n",
       "    </tr>\n",
       "    <tr>\n",
       "      <th>2</th>\n",
       "      <td>Bream</td>\n",
       "      <td>340.0</td>\n",
       "      <td>23.9</td>\n",
       "      <td>26.5</td>\n",
       "      <td>31.1</td>\n",
       "      <td>12.3778</td>\n",
       "      <td>4.6961</td>\n",
       "    </tr>\n",
       "    <tr>\n",
       "      <th>3</th>\n",
       "      <td>Bream</td>\n",
       "      <td>363.0</td>\n",
       "      <td>26.3</td>\n",
       "      <td>29.0</td>\n",
       "      <td>33.5</td>\n",
       "      <td>12.7300</td>\n",
       "      <td>4.4555</td>\n",
       "    </tr>\n",
       "    <tr>\n",
       "      <th>4</th>\n",
       "      <td>Bream</td>\n",
       "      <td>430.0</td>\n",
       "      <td>26.5</td>\n",
       "      <td>29.0</td>\n",
       "      <td>34.0</td>\n",
       "      <td>12.4440</td>\n",
       "      <td>5.1340</td>\n",
       "    </tr>\n",
       "  </tbody>\n",
       "</table>\n",
       "</div>"
      ],
      "text/plain": [
       "  Species  Weight  Length1  Length2  Length3   Height   Width\n",
       "0   Bream   242.0     23.2     25.4     30.0  11.5200  4.0200\n",
       "1   Bream   290.0     24.0     26.3     31.2  12.4800  4.3056\n",
       "2   Bream   340.0     23.9     26.5     31.1  12.3778  4.6961\n",
       "3   Bream   363.0     26.3     29.0     33.5  12.7300  4.4555\n",
       "4   Bream   430.0     26.5     29.0     34.0  12.4440  5.1340"
      ]
     },
     "execution_count": 3,
     "metadata": {},
     "output_type": "execute_result"
    }
   ],
   "source": [
    "fish.head()"
   ]
  },
  {
   "cell_type": "markdown",
   "metadata": {},
   "source": [
    "## Clean the data"
   ]
  },
  {
   "cell_type": "code",
   "execution_count": 4,
   "metadata": {},
   "outputs": [
    {
     "name": "stdout",
     "output_type": "stream",
     "text": [
      "<class 'pandas.core.frame.DataFrame'>\n",
      "RangeIndex: 159 entries, 0 to 158\n",
      "Data columns (total 7 columns):\n",
      " #   Column   Non-Null Count  Dtype  \n",
      "---  ------   --------------  -----  \n",
      " 0   Species  159 non-null    object \n",
      " 1   Weight   159 non-null    float64\n",
      " 2   Length1  159 non-null    float64\n",
      " 3   Length2  159 non-null    float64\n",
      " 4   Length3  159 non-null    float64\n",
      " 5   Height   159 non-null    float64\n",
      " 6   Width    159 non-null    float64\n",
      "dtypes: float64(6), object(1)\n",
      "memory usage: 8.8+ KB\n"
     ]
    }
   ],
   "source": [
    "# read the info.txt file and rename the Length columns so they're more descriptive\n",
    "fish.info()\n",
    "fish.rename(columns={'Length1':'VerticalLength', 'Length2':'DiagonalLength', 'Length3':'CrossLength'}\n",
    "           ,inplace=True)\n"
   ]
  },
  {
   "cell_type": "markdown",
   "metadata": {},
   "source": [
    "## Identify a correlation"
   ]
  },
  {
   "cell_type": "code",
   "execution_count": 5,
   "metadata": {},
   "outputs": [
    {
     "name": "stderr",
     "output_type": "stream",
     "text": [
      "/var/folders/rj/tzk4w23s0md7pcnpq4w2fy6c0000gn/T/ipykernel_56725/1560990702.py:2: FutureWarning: The default value of numeric_only in DataFrame.corr is deprecated. In a future version, it will default to False. Select only valid columns or specify the value of numeric_only to silence this warning.\n",
      "  fish.corr()[['Weight']]\n"
     ]
    },
    {
     "data": {
      "text/html": [
       "<div>\n",
       "<style scoped>\n",
       "    .dataframe tbody tr th:only-of-type {\n",
       "        vertical-align: middle;\n",
       "    }\n",
       "\n",
       "    .dataframe tbody tr th {\n",
       "        vertical-align: top;\n",
       "    }\n",
       "\n",
       "    .dataframe thead th {\n",
       "        text-align: right;\n",
       "    }\n",
       "</style>\n",
       "<table border=\"1\" class=\"dataframe\">\n",
       "  <thead>\n",
       "    <tr style=\"text-align: right;\">\n",
       "      <th></th>\n",
       "      <th>Weight</th>\n",
       "    </tr>\n",
       "  </thead>\n",
       "  <tbody>\n",
       "    <tr>\n",
       "      <th>Weight</th>\n",
       "      <td>1.000000</td>\n",
       "    </tr>\n",
       "    <tr>\n",
       "      <th>VerticalLength</th>\n",
       "      <td>0.915712</td>\n",
       "    </tr>\n",
       "    <tr>\n",
       "      <th>DiagonalLength</th>\n",
       "      <td>0.918618</td>\n",
       "    </tr>\n",
       "    <tr>\n",
       "      <th>CrossLength</th>\n",
       "      <td>0.923044</td>\n",
       "    </tr>\n",
       "    <tr>\n",
       "      <th>Height</th>\n",
       "      <td>0.724345</td>\n",
       "    </tr>\n",
       "    <tr>\n",
       "      <th>Width</th>\n",
       "      <td>0.886507</td>\n",
       "    </tr>\n",
       "  </tbody>\n",
       "</table>\n",
       "</div>"
      ],
      "text/plain": [
       "                  Weight\n",
       "Weight          1.000000\n",
       "VerticalLength  0.915712\n",
       "DiagonalLength  0.918618\n",
       "CrossLength     0.923044\n",
       "Height          0.724345\n",
       "Width           0.886507"
      ]
     },
     "execution_count": 5,
     "metadata": {},
     "output_type": "execute_result"
    }
   ],
   "source": [
    "# get the correlation data for the Weight column\n",
    "fish.corr()[['Weight']]"
   ]
  },
  {
   "cell_type": "code",
   "execution_count": 6,
   "metadata": {},
   "outputs": [
    {
     "name": "stderr",
     "output_type": "stream",
     "text": [
      "/var/folders/rj/tzk4w23s0md7pcnpq4w2fy6c0000gn/T/ipykernel_56725/2955795467.py:2: FutureWarning: The default value of numeric_only in DataFrame.corr is deprecated. In a future version, it will default to False. Select only valid columns or specify the value of numeric_only to silence this warning.\n",
      "  sns.heatmap(data=fish.corr(), annot=True, cmap='Blues')\n"
     ]
    },
    {
     "data": {
      "text/plain": [
       "<Axes: >"
      ]
     },
     "execution_count": 6,
     "metadata": {},
     "output_type": "execute_result"
    },
    {
     "data": {
      "image/png": "[encoded data removed]",
      "text/plain": [
       "<Figure size 640x480 with 2 Axes>"
      ]
     },
     "metadata": {},
     "output_type": "display_data"
    }
   ],
   "source": [
    "# create a heatmap for the correlation data\n",
    "sns.heatmap(data=fish.corr(), annot=True, cmap='Blues')"
   ]
  },
  {
   "cell_type": "markdown",
   "metadata": {},
   "source": [
    "## Create a multiple regression model"
   ]
  },
  {
   "cell_type": "code",
   "execution_count": 7,
   "metadata": {},
   "outputs": [],
   "source": [
    "# filter the data so it only contains the values for the Bream species \n",
    "# and assign the resulting DataFrame to a variable named bream\n",
    "bream = fish.query('Species==\"Bream\"')\n"
   ]
  },
  {
   "cell_type": "code",
   "execution_count": 8,
   "metadata": {},
   "outputs": [],
   "source": [
    "# split the training and test data \n",
    "x_train, x_test, y_train, y_test = train_test_split(fish[['VerticalLength', 'Height', 'Width']], fish['Weight'], random_state=1)"
   ]
  },
  {
   "cell_type": "code",
   "execution_count": 9,
   "metadata": {},
   "outputs": [
    {
     "data": {
      "text/html": [
       "<style>#sk-container-id-1 {color: black;background-color: white;}#sk-container-id-1 pre{padding: 0;}#sk-container-id-1 div.sk-toggleable {background-color: white;}#sk-container-id-1 label.sk-toggleable__label {cursor: pointer;display: block;width: 100%;margin-bottom: 0;padding: 0.3em;box-sizing: border-box;text-align: center;}#sk-container-id-1 label.sk-toggleable__label-arrow:before {content: \"▸\";float: left;margin-right: 0.25em;color: #696969;}#sk-container-id-1 label.sk-toggleable__label-arrow:hover:before {color: black;}#sk-container-id-1 div.sk-estimator:hover label.sk-toggleable__label-arrow:before {color: black;}#sk-container-id-1 div.sk-toggleable__content {max-height: 0;max-width: 0;overflow: hidden;text-align: left;background-color: #f0f8ff;}#sk-container-id-1 div.sk-toggleable__content pre {margin: 0.2em;color: black;border-radius: 0.25em;background-color: #f0f8ff;}#sk-container-id-1 input.sk-toggleable__control:checked~div.sk-toggleable__content {max-height: 200px;max-width: 100%;overflow: auto;}#sk-container-id-1 input.sk-toggleable__control:checked~label.sk-toggleable__label-arrow:before {content: \"▾\";}#sk-container-id-1 div.sk-estimator input.sk-toggleable__control:checked~label.sk-toggleable__label {background-color: #d4ebff;}#sk-container-id-1 div.sk-label input.sk-toggleable__control:checked~label.sk-toggleable__label {background-color: #d4ebff;}#sk-container-id-1 input.sk-hidden--visually {border: 0;clip: rect(1px 1px 1px 1px);clip: rect(1px, 1px, 1px, 1px);height: 1px;margin: -1px;overflow: hidden;padding: 0;position: absolute;width: 1px;}#sk-container-id-1 div.sk-estimator {font-family: monospace;background-color: #f0f8ff;border: 1px dotted black;border-radius: 0.25em;box-sizing: border-box;margin-bottom: 0.5em;}#sk-container-id-1 div.sk-estimator:hover {background-color: #d4ebff;}#sk-container-id-1 div.sk-parallel-item::after {content: \"\";width: 100%;border-bottom: 1px solid gray;flex-grow: 1;}#sk-container-id-1 div.sk-label:hover label.sk-toggleable__label {background-color: #d4ebff;}#sk-container-id-1 div.sk-serial::before {content: \"\";position: absolute;border-left: 1px solid gray;box-sizing: border-box;top: 0;bottom: 0;left: 50%;z-index: 0;}#sk-container-id-1 div.sk-serial {display: flex;flex-direction: column;align-items: center;background-color: white;padding-right: 0.2em;padding-left: 0.2em;position: relative;}#sk-container-id-1 div.sk-item {position: relative;z-index: 1;}#sk-container-id-1 div.sk-parallel {display: flex;align-items: stretch;justify-content: center;background-color: white;position: relative;}#sk-container-id-1 div.sk-item::before, #sk-container-id-1 div.sk-parallel-item::before {content: \"\";position: absolute;border-left: 1px solid gray;box-sizing: border-box;top: 0;bottom: 0;left: 50%;z-index: -1;}#sk-container-id-1 div.sk-parallel-item {display: flex;flex-direction: column;z-index: 1;position: relative;background-color: white;}#sk-container-id-1 div.sk-parallel-item:first-child::after {align-self: flex-end;width: 50%;}#sk-container-id-1 div.sk-parallel-item:last-child::after {align-self: flex-start;width: 50%;}#sk-container-id-1 div.sk-parallel-item:only-child::after {width: 0;}#sk-container-id-1 div.sk-dashed-wrapped {border: 1px dashed gray;margin: 0 0.4em 0.5em 0.4em;box-sizing: border-box;padding-bottom: 0.4em;background-color: white;}#sk-container-id-1 div.sk-label label {font-family: monospace;font-weight: bold;display: inline-block;line-height: 1.2em;}#sk-container-id-1 div.sk-label-container {text-align: center;}#sk-container-id-1 div.sk-container {/* jupyter's `normalize.less` sets `[hidden] { display: none; }` but bootstrap.min.css set `[hidden] { display: none !important; }` so we also need the `!important` here to be able to override the default hidden behavior on the sphinx rendered scikit-learn.org. See: https://github.com/scikit-learn/scikit-learn/issues/21755 */display: inline-block !important;position: relative;}#sk-container-id-1 div.sk-text-repr-fallback {display: none;}</style><div id=\"sk-container-id-1\" class=\"sk-top-container\"><div class=\"sk-text-repr-fallback\"><pre>LinearRegression()</pre><b>In a Jupyter environment, please rerun this cell to show the HTML representation or trust the notebook. <br />On GitHub, the HTML representation is unable to render, please try loading this page with nbviewer.org.</b></div><div class=\"sk-container\" hidden><div class=\"sk-item\"><div class=\"sk-estimator sk-toggleable\"><input class=\"sk-toggleable__control sk-hidden--visually\" id=\"sk-estimator-id-1\" type=\"checkbox\" checked><label for=\"sk-estimator-id-1\" class=\"sk-toggleable__label sk-toggleable__label-arrow\">LinearRegression</label><div class=\"sk-toggleable__content\"><pre>LinearRegression()</pre></div></div></div></div></div>"
      ],
      "text/plain": [
       "LinearRegression()"
      ]
     },
     "execution_count": 9,
     "metadata": {},
     "output_type": "execute_result"
    }
   ],
   "source": [
    "# create the model and fit the training data\n",
    "model=LinearRegression()\n",
    "model.fit(x_train, y_train)"
   ]
  },
  {
   "cell_type": "code",
   "execution_count": 10,
   "metadata": {},
   "outputs": [
    {
     "data": {
      "text/plain": [
       "0.8672135157757638"
      ]
     },
     "execution_count": 10,
     "metadata": {},
     "output_type": "execute_result"
    }
   ],
   "source": [
    "# score the testing data\n",
    "model.score(x_test, y_test)"
   ]
  },
  {
   "cell_type": "code",
   "execution_count": 11,
   "metadata": {},
   "outputs": [],
   "source": [
    "# make the predictions\n",
    "y_predicted = model.predict(x_test)\n"
   ]
  },
  {
   "cell_type": "code",
   "execution_count": 12,
   "metadata": {},
   "outputs": [
    {
     "data": {
      "text/html": [
       "<div>\n",
       "<style scoped>\n",
       "    .dataframe tbody tr th:only-of-type {\n",
       "        vertical-align: middle;\n",
       "    }\n",
       "\n",
       "    .dataframe tbody tr th {\n",
       "        vertical-align: top;\n",
       "    }\n",
       "\n",
       "    .dataframe thead th {\n",
       "        text-align: right;\n",
       "    }\n",
       "</style>\n",
       "<table border=\"1\" class=\"dataframe\">\n",
       "  <thead>\n",
       "    <tr style=\"text-align: right;\">\n",
       "      <th></th>\n",
       "      <th>predictedWeight</th>\n",
       "      <th>VerticalLength</th>\n",
       "      <th>Height</th>\n",
       "      <th>Width</th>\n",
       "      <th>Weight</th>\n",
       "    </tr>\n",
       "  </thead>\n",
       "  <tbody>\n",
       "    <tr>\n",
       "      <th>0</th>\n",
       "      <td>774.235620</td>\n",
       "      <td>33.5</td>\n",
       "      <td>18.9570</td>\n",
       "      <td>6.6030</td>\n",
       "      <td>1000.0</td>\n",
       "    </tr>\n",
       "    <tr>\n",
       "      <th>1</th>\n",
       "      <td>165.362977</td>\n",
       "      <td>19.4</td>\n",
       "      <td>6.1146</td>\n",
       "      <td>3.2943</td>\n",
       "      <td>120.0</td>\n",
       "    </tr>\n",
       "    <tr>\n",
       "      <th>2</th>\n",
       "      <td>564.863829</td>\n",
       "      <td>29.4</td>\n",
       "      <td>14.9544</td>\n",
       "      <td>5.1708</td>\n",
       "      <td>600.0</td>\n",
       "    </tr>\n",
       "    <tr>\n",
       "      <th>3</th>\n",
       "      <td>206.178795</td>\n",
       "      <td>20.5</td>\n",
       "      <td>5.8560</td>\n",
       "      <td>3.6240</td>\n",
       "      <td>130.0</td>\n",
       "    </tr>\n",
       "    <tr>\n",
       "      <th>4</th>\n",
       "      <td>98.756573</td>\n",
       "      <td>18.2</td>\n",
       "      <td>5.0820</td>\n",
       "      <td>2.7720</td>\n",
       "      <td>85.0</td>\n",
       "    </tr>\n",
       "    <tr>\n",
       "      <th>5</th>\n",
       "      <td>628.218316</td>\n",
       "      <td>31.0</td>\n",
       "      <td>14.4738</td>\n",
       "      <td>5.7276</td>\n",
       "      <td>650.0</td>\n",
       "    </tr>\n",
       "    <tr>\n",
       "      <th>6</th>\n",
       "      <td>208.265066</td>\n",
       "      <td>20.5</td>\n",
       "      <td>6.6339</td>\n",
       "      <td>3.5478</td>\n",
       "      <td>145.0</td>\n",
       "    </tr>\n",
       "    <tr>\n",
       "      <th>7</th>\n",
       "      <td>522.902081</td>\n",
       "      <td>28.7</td>\n",
       "      <td>14.3714</td>\n",
       "      <td>4.8146</td>\n",
       "      <td>500.0</td>\n",
       "    </tr>\n",
       "    <tr>\n",
       "      <th>8</th>\n",
       "      <td>164.180007</td>\n",
       "      <td>19.0</td>\n",
       "      <td>6.4752</td>\n",
       "      <td>3.3516</td>\n",
       "      <td>0.0</td>\n",
       "    </tr>\n",
       "    <tr>\n",
       "      <th>9</th>\n",
       "      <td>253.782904</td>\n",
       "      <td>22.0</td>\n",
       "      <td>6.3750</td>\n",
       "      <td>3.8250</td>\n",
       "      <td>145.0</td>\n",
       "    </tr>\n",
       "    <tr>\n",
       "      <th>10</th>\n",
       "      <td>189.985727</td>\n",
       "      <td>20.0</td>\n",
       "      <td>5.8750</td>\n",
       "      <td>3.5250</td>\n",
       "      <td>135.0</td>\n",
       "    </tr>\n",
       "    <tr>\n",
       "      <th>11</th>\n",
       "      <td>210.679621</td>\n",
       "      <td>21.0</td>\n",
       "      <td>5.2185</td>\n",
       "      <td>3.6260</td>\n",
       "      <td>150.0</td>\n",
       "    </tr>\n",
       "    <tr>\n",
       "      <th>12</th>\n",
       "      <td>-78.982237</td>\n",
       "      <td>12.5</td>\n",
       "      <td>3.5280</td>\n",
       "      <td>1.9992</td>\n",
       "      <td>32.0</td>\n",
       "    </tr>\n",
       "    <tr>\n",
       "      <th>13</th>\n",
       "      <td>377.474087</td>\n",
       "      <td>25.4</td>\n",
       "      <td>7.2828</td>\n",
       "      <td>4.5662</td>\n",
       "      <td>250.0</td>\n",
       "    </tr>\n",
       "    <tr>\n",
       "      <th>14</th>\n",
       "      <td>712.209678</td>\n",
       "      <td>33.7</td>\n",
       "      <td>11.7612</td>\n",
       "      <td>6.5736</td>\n",
       "      <td>800.0</td>\n",
       "    </tr>\n",
       "    <tr>\n",
       "      <th>15</th>\n",
       "      <td>216.766706</td>\n",
       "      <td>20.0</td>\n",
       "      <td>5.5225</td>\n",
       "      <td>3.9950</td>\n",
       "      <td>110.0</td>\n",
       "    </tr>\n",
       "    <tr>\n",
       "      <th>16</th>\n",
       "      <td>178.932174</td>\n",
       "      <td>19.0</td>\n",
       "      <td>8.5376</td>\n",
       "      <td>3.2944</td>\n",
       "      <td>140.0</td>\n",
       "    </tr>\n",
       "    <tr>\n",
       "      <th>17</th>\n",
       "      <td>529.823309</td>\n",
       "      <td>29.5</td>\n",
       "      <td>9.4850</td>\n",
       "      <td>5.3550</td>\n",
       "      <td>390.0</td>\n",
       "    </tr>\n",
       "    <tr>\n",
       "      <th>18</th>\n",
       "      <td>441.804237</td>\n",
       "      <td>27.8</td>\n",
       "      <td>7.6156</td>\n",
       "      <td>4.7716</td>\n",
       "      <td>320.0</td>\n",
       "    </tr>\n",
       "    <tr>\n",
       "      <th>19</th>\n",
       "      <td>311.978746</td>\n",
       "      <td>23.5</td>\n",
       "      <td>6.5610</td>\n",
       "      <td>4.2390</td>\n",
       "      <td>197.0</td>\n",
       "    </tr>\n",
       "    <tr>\n",
       "      <th>20</th>\n",
       "      <td>-167.087722</td>\n",
       "      <td>11.4</td>\n",
       "      <td>2.2044</td>\n",
       "      <td>1.1484</td>\n",
       "      <td>9.8</td>\n",
       "    </tr>\n",
       "    <tr>\n",
       "      <th>21</th>\n",
       "      <td>-48.297901</td>\n",
       "      <td>12.9</td>\n",
       "      <td>4.1472</td>\n",
       "      <td>2.2680</td>\n",
       "      <td>40.0</td>\n",
       "    </tr>\n",
       "    <tr>\n",
       "      <th>22</th>\n",
       "      <td>297.476224</td>\n",
       "      <td>23.6</td>\n",
       "      <td>7.0866</td>\n",
       "      <td>3.9060</td>\n",
       "      <td>180.0</td>\n",
       "    </tr>\n",
       "    <tr>\n",
       "      <th>23</th>\n",
       "      <td>485.000524</td>\n",
       "      <td>26.8</td>\n",
       "      <td>13.6024</td>\n",
       "      <td>4.9274</td>\n",
       "      <td>450.0</td>\n",
       "    </tr>\n",
       "    <tr>\n",
       "      <th>24</th>\n",
       "      <td>177.312599</td>\n",
       "      <td>19.0</td>\n",
       "      <td>5.6925</td>\n",
       "      <td>3.6675</td>\n",
       "      <td>125.0</td>\n",
       "    </tr>\n",
       "    <tr>\n",
       "      <th>25</th>\n",
       "      <td>776.825811</td>\n",
       "      <td>35.0</td>\n",
       "      <td>18.0840</td>\n",
       "      <td>6.2920</td>\n",
       "      <td>955.0</td>\n",
       "    </tr>\n",
       "    <tr>\n",
       "      <th>26</th>\n",
       "      <td>591.440444</td>\n",
       "      <td>30.4</td>\n",
       "      <td>14.8604</td>\n",
       "      <td>5.2854</td>\n",
       "      <td>700.0</td>\n",
       "    </tr>\n",
       "    <tr>\n",
       "      <th>27</th>\n",
       "      <td>-219.906892</td>\n",
       "      <td>9.3</td>\n",
       "      <td>1.7388</td>\n",
       "      <td>1.0476</td>\n",
       "      <td>6.7</td>\n",
       "    </tr>\n",
       "    <tr>\n",
       "      <th>28</th>\n",
       "      <td>1114.222404</td>\n",
       "      <td>56.0</td>\n",
       "      <td>9.6000</td>\n",
       "      <td>6.1440</td>\n",
       "      <td>1550.0</td>\n",
       "    </tr>\n",
       "    <tr>\n",
       "      <th>29</th>\n",
       "      <td>211.451402</td>\n",
       "      <td>20.7</td>\n",
       "      <td>5.9532</td>\n",
       "      <td>3.6300</td>\n",
       "      <td>145.0</td>\n",
       "    </tr>\n",
       "    <tr>\n",
       "      <th>30</th>\n",
       "      <td>932.658581</td>\n",
       "      <td>41.1</td>\n",
       "      <td>12.4888</td>\n",
       "      <td>7.5958</td>\n",
       "      <td>1000.0</td>\n",
       "    </tr>\n",
       "    <tr>\n",
       "      <th>31</th>\n",
       "      <td>361.722599</td>\n",
       "      <td>25.4</td>\n",
       "      <td>7.1672</td>\n",
       "      <td>4.3350</td>\n",
       "      <td>260.0</td>\n",
       "    </tr>\n",
       "    <tr>\n",
       "      <th>32</th>\n",
       "      <td>763.445511</td>\n",
       "      <td>32.5</td>\n",
       "      <td>11.4884</td>\n",
       "      <td>7.7957</td>\n",
       "      <td>840.0</td>\n",
       "    </tr>\n",
       "    <tr>\n",
       "      <th>33</th>\n",
       "      <td>522.929095</td>\n",
       "      <td>34.8</td>\n",
       "      <td>6.2884</td>\n",
       "      <td>4.0198</td>\n",
       "      <td>300.0</td>\n",
       "    </tr>\n",
       "    <tr>\n",
       "      <th>34</th>\n",
       "      <td>597.783190</td>\n",
       "      <td>28.5</td>\n",
       "      <td>10.7440</td>\n",
       "      <td>6.5620</td>\n",
       "      <td>540.0</td>\n",
       "    </tr>\n",
       "    <tr>\n",
       "      <th>35</th>\n",
       "      <td>419.089588</td>\n",
       "      <td>25.2</td>\n",
       "      <td>8.3230</td>\n",
       "      <td>5.1373</td>\n",
       "      <td>300.0</td>\n",
       "    </tr>\n",
       "    <tr>\n",
       "      <th>36</th>\n",
       "      <td>234.307556</td>\n",
       "      <td>21.1</td>\n",
       "      <td>6.4000</td>\n",
       "      <td>3.8000</td>\n",
       "      <td>160.0</td>\n",
       "    </tr>\n",
       "    <tr>\n",
       "      <th>37</th>\n",
       "      <td>262.826532</td>\n",
       "      <td>21.2</td>\n",
       "      <td>10.3458</td>\n",
       "      <td>3.6636</td>\n",
       "      <td>200.0</td>\n",
       "    </tr>\n",
       "    <tr>\n",
       "      <th>38</th>\n",
       "      <td>859.016710</td>\n",
       "      <td>37.4</td>\n",
       "      <td>18.6354</td>\n",
       "      <td>6.7473</td>\n",
       "      <td>975.0</td>\n",
       "    </tr>\n",
       "    <tr>\n",
       "      <th>39</th>\n",
       "      <td>338.785566</td>\n",
       "      <td>24.1</td>\n",
       "      <td>8.1454</td>\n",
       "      <td>4.2485</td>\n",
       "      <td>270.0</td>\n",
       "    </tr>\n",
       "  </tbody>\n",
       "</table>\n",
       "</div>"
      ],
      "text/plain": [
       "    predictedWeight  VerticalLength   Height   Width  Weight\n",
       "0        774.235620            33.5  18.9570  6.6030  1000.0\n",
       "1        165.362977            19.4   6.1146  3.2943   120.0\n",
       "2        564.863829            29.4  14.9544  5.1708   600.0\n",
       "3        206.178795            20.5   5.8560  3.6240   130.0\n",
       "4         98.756573            18.2   5.0820  2.7720    85.0\n",
       "5        628.218316            31.0  14.4738  5.7276   650.0\n",
       "6        208.265066            20.5   6.6339  3.5478   145.0\n",
       "7        522.902081            28.7  14.3714  4.8146   500.0\n",
       "8        164.180007            19.0   6.4752  3.3516     0.0\n",
       "9        253.782904            22.0   6.3750  3.8250   145.0\n",
       "10       189.985727            20.0   5.8750  3.5250   135.0\n",
       "11       210.679621            21.0   5.2185  3.6260   150.0\n",
       "12       -78.982237            12.5   3.5280  1.9992    32.0\n",
       "13       377.474087            25.4   7.2828  4.5662   250.0\n",
       "14       712.209678            33.7  11.7612  6.5736   800.0\n",
       "15       216.766706            20.0   5.5225  3.9950   110.0\n",
       "16       178.932174            19.0   8.5376  3.2944   140.0\n",
       "17       529.823309            29.5   9.4850  5.3550   390.0\n",
       "18       441.804237            27.8   7.6156  4.7716   320.0\n",
       "19       311.978746            23.5   6.5610  4.2390   197.0\n",
       "20      -167.087722            11.4   2.2044  1.1484     9.8\n",
       "21       -48.297901            12.9   4.1472  2.2680    40.0\n",
       "22       297.476224            23.6   7.0866  3.9060   180.0\n",
       "23       485.000524            26.8  13.6024  4.9274   450.0\n",
       "24       177.312599            19.0   5.6925  3.6675   125.0\n",
       "25       776.825811            35.0  18.0840  6.2920   955.0\n",
       "26       591.440444            30.4  14.8604  5.2854   700.0\n",
       "27      -219.906892             9.3   1.7388  1.0476     6.7\n",
       "28      1114.222404            56.0   9.6000  6.1440  1550.0\n",
       "29       211.451402            20.7   5.9532  3.6300   145.0\n",
       "30       932.658581            41.1  12.4888  7.5958  1000.0\n",
       "31       361.722599            25.4   7.1672  4.3350   260.0\n",
       "32       763.445511            32.5  11.4884  7.7957   840.0\n",
       "33       522.929095            34.8   6.2884  4.0198   300.0\n",
       "34       597.783190            28.5  10.7440  6.5620   540.0\n",
       "35       419.089588            25.2   8.3230  5.1373   300.0\n",
       "36       234.307556            21.1   6.4000  3.8000   160.0\n",
       "37       262.826532            21.2  10.3458  3.6636   200.0\n",
       "38       859.016710            37.4  18.6354  6.7473   975.0\n",
       "39       338.785566            24.1   8.1454  4.2485   270.0"
      ]
     },
     "execution_count": 12,
     "metadata": {},
     "output_type": "execute_result"
    }
   ],
   "source": [
    "# join the predicted data with the original data\n",
    "predicted = pd.DataFrame(data=y_predicted, columns=['predictedWeight'])\n",
    "predicted = predicted.join([x_test.reset_index(drop=True), y_test.reset_index(drop=True)])\n",
    "predicted"
   ]
  },
  {
   "cell_type": "markdown",
   "metadata": {},
   "source": [
    "## Plot the residuals"
   ]
  },
  {
   "cell_type": "code",
   "execution_count": 13,
   "metadata": {},
   "outputs": [],
   "source": [
    "# calculate the residuals and store them in a column\n",
    "predicted['residuals'] = predicted['Weight'] - predicted['predictedWeight']"
   ]
  },
  {
   "cell_type": "code",
   "execution_count": 14,
   "metadata": {},
   "outputs": [
    {
     "data": {
      "text/plain": [
       "<Axes: xlabel='residuals', ylabel='Density'>"
      ]
     },
     "execution_count": 14,
     "metadata": {},
     "output_type": "execute_result"
    },
    {
     "data": {
      "image/png": "[encoded data removed]",
      "text/plain": [
       "<Figure size 640x480 with 1 Axes>"
      ]
     },
     "metadata": {},
     "output_type": "display_data"
    }
   ],
   "source": [
    "# create a KDE plot for the residuals\n",
    "sns.kdeplot(data=predicted, x='residuals')"
   ]
  },
  {
   "cell_type": "code",
   "execution_count": null,
   "metadata": {},
   "outputs": [],
   "source": []
  }
 ],
 "metadata": {
  "kernelspec": {
   "display_name": "Python 3 (ipykernel)",
   "language": "python",
   "name": "python3"
  },
  "language_info": {
   "codemirror_mode": {
    "name": "ipython",
    "version": 3
   },
   "file_extension": ".py",
   "mimetype": "text/x-python",
   "name": "python",
   "nbconvert_exporter": "python",
   "pygments_lexer": "ipython3",
   "version": "3.11.3"
  }
 },
 "nbformat": 4,
 "nbformat_minor": 4
}
