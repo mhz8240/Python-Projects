{
  "nbformat": 4,
  "nbformat_minor": 0,
  "metadata": {
    "colab": {
      "provenance": []
    },
    "kernelspec": {
      "name": "python3",
      "display_name": "Python 3"
    },
    "language_info": {
      "name": "python"
    }
  },
  "cells": [
    {
      "cell_type": "code",
      "execution_count": 1,
      "metadata": {
        "colab": {
          "base_uri": "https://localhost:8080/"
        },
        "id": "1BtYm5QHxM_-",
        "outputId": "bbdd8700-ca28-44dc-c5d6-b47751e61ec6"
      },
      "outputs": [
        {
          "output_type": "stream",
          "name": "stdout",
          "text": [
            "3\n"
          ]
        }
      ],
      "source": [
        "# Import required libaries (\"from _____ import _____, _____\")\n",
        "from PIL import Image, ImageDraw\n",
        "\n",
        "# define global variables\n",
        "rowPos = 0\n",
        "colPos = 0\n",
        "# Eg. WALL = '#'\n",
        "mazeFile = open('maze_medium.txt', 'r')\n",
        "\n",
        "\n",
        "# define empty variables for later use\n",
        "rowCount = 0\n",
        "colCount = 0\n",
        "maze = []\n",
        "visited = []\n",
        "print(3)\n",
        "# previousIndices = []"
      ]
    },
    {
      "cell_type": "code",
      "source": [
        "for line in mazeFile:\n",
        "\n",
        "    # Define an empty row\n",
        "    rowList = []\n",
        "    boolList = []\n",
        "    # prevIndexList = []\n",
        "    colCount = 0\n",
        "    for ch in line:\n",
        "        # Append each character in a row to rowList[]\n",
        "        rowList.append(ch)\n",
        "        # Check for the S character and save its coordinates\n",
        "        if ch == \"S\":\n",
        "          colPos = colCount\n",
        "          rowPos = rowCount\n",
        "        boolList.append(False)\n",
        "        # prevIndexList.append((-1,-1))\n",
        "        colCount += 1\n",
        "\n",
        "    # Append each rowList[] to maze[]\n",
        "    maze.append(rowList)\n",
        "    visited.append(boolList)\n",
        "    # previousIndices.append(prevIndexList)\n",
        "    rowCount+=1\n",
        "    print(colCount)"
      ],
      "metadata": {
        "colab": {
          "base_uri": "https://localhost:8080/"
        },
        "id": "T5hDIRqGxezn",
        "outputId": "4d48ef2f-40df-4bae-d884-ef48037f7545"
      },
      "execution_count": 2,
      "outputs": [
        {
          "output_type": "stream",
          "name": "stdout",
          "text": [
            "26\n",
            "26\n",
            "26\n",
            "26\n",
            "26\n",
            "26\n",
            "26\n",
            "26\n",
            "26\n",
            "26\n",
            "26\n",
            "26\n",
            "26\n",
            "26\n",
            "26\n",
            "26\n",
            "25\n"
          ]
        }
      ]
    },
    {
      "cell_type": "code",
      "source": [
        "def solveFrom(maze, rowPos, colPos):\n",
        "  if maze[rowPos][colPos] == \"#\":\n",
        "\n",
        "      return\n",
        "  if visited[rowPos][colPos] == True:\n",
        "\n",
        "    return\n",
        "  if maze[rowPos][colPos] == \"F\":\n",
        "\n",
        "    return True\n",
        "  visited[rowPos][colPos] = True\n",
        "\n",
        "  found = False\n",
        "  # Leave a breadcrumb. Do this by setting the current position to your breadcrumb variable.\n",
        "\n",
        "\n",
        "  # Define the recursive case. Search in all four directions for a solution.\n",
        "  # We've already searched North, its up to you to implement the other three directions!\n",
        "  if solveFrom(maze, rowPos-1, colPos) == True:\n",
        "\n",
        "      found = True\n",
        "  elif solveFrom(maze, rowPos, colPos+1) == True:\n",
        "    found = True\n",
        "  elif solveFrom(maze, rowPos+1, colPos) == True:\n",
        "    found = True\n",
        "  elif solveFrom(maze, rowPos, colPos-1) == True:\n",
        "    found = True\n",
        "\n",
        "  # Depending on whether or not a solution was found, markup the maze\n",
        "\n",
        "\n",
        "  # What should we markup the path with if we hit a dead end?\n",
        "  if found:\n",
        "    # If we've found a solution, we should markup the path with the solution character.\n",
        "    # Recall that we markup our current position using maze[rowPos][colPos] == 'character'\n",
        "\n",
        "    # solution character is \".\"\n",
        "    if maze[rowPos][colPos] != 'S':\n",
        "     maze[rowPos][colPos] = '.'\n",
        "\n",
        "    # What should we markup the path with if we hit a dead end?\n",
        "\n",
        "  # We want to return True if we've found a solution, and False if not.\n",
        "  # Thankfully, the \"found\" variable stores this very information,\n",
        "  # so all we need to do it return found\n",
        "  return found\n"
      ],
      "metadata": {
        "id": "neKNFxnBxfdR"
      },
      "execution_count": 3,
      "outputs": []
    },
    {
      "cell_type": "code",
      "source": [
        "print(solveFrom(maze, rowPos, colPos))\n",
        "# Once you're done writing the function call, feel free to uncomment the next\n",
        "# lines to see what the solved maze list looks like:\n",
        "\n",
        "for line in maze:\n",
        " print(''.join(line))"
      ],
      "metadata": {
        "colab": {
          "base_uri": "https://localhost:8080/"
        },
        "id": "WzVgfBzqxqNT",
        "outputId": "225b34cf-c326-4684-9e15-96f97e2b8d61"
      },
      "execution_count": 4,
      "outputs": [
        {
          "output_type": "stream",
          "name": "stdout",
          "text": [
            "True\n",
            "#########################\n",
            "\n",
            "#   ..#                 #\n",
            "\n",
            "#  #..#  ####  ##########\n",
            "\n",
            "#  #..   #        #     #\n",
            "\n",
            "####S.####  #  ####  ####\n",
            "\n",
            "# ....   #  #           #\n",
            "\n",
            "# .######################\n",
            "\n",
            "# ....#     #..         #\n",
            "\n",
            "#### .####  #..##########\n",
            "\n",
            "#    ....#  #..#........#\n",
            "\n",
            "#  #### .#  #..#. #### .#\n",
            "\n",
            "#     # .#   ..#. #    .#\n",
            "\n",
            "#  #### .####..#. #### .#\n",
            "\n",
            "#  #    ......... #    .#\n",
            "\n",
            "####  ####  ####  #### .#\n",
            "\n",
            "#        #     #  #    .F\n",
            "\n",
            "#########################\n"
          ]
        }
      ]
    },
    {
      "cell_type": "code",
      "source": [
        "im = Image.new('RGB', (26 * 10, rowCount * 10), (255, 255, 255))\n",
        "draw = ImageDraw.Draw(im)\n",
        "\n",
        "\n",
        "# iterate through every character of every line\n",
        "# to draw a pixel, do (change the fill parameter to change the pixel's color):\n",
        "# draw.rectangle((col * 10, row * 10, (col * 10) + 10, (row * 10) + 10), fill=(100, 100, 100))\n",
        "row = 0\n",
        "for line in maze:\n",
        "    col = 0\n",
        "    for ch in line:\n",
        "        # If the character is a wall, draw a black pixel\n",
        "        if maze[row][col] == \"#\":\n",
        "\n",
        "          draw.rectangle((col * 10, row * 10, (col * 10) + 10, (row * 10) + 10), fill=(0, 0, 0))\n",
        "\n",
        "\n",
        "        # If the character is part of the solution, draw a green pixel\n",
        "        if maze[row][col] == \".\":\n",
        "          draw.rectangle((col * 10, row * 10, (col * 10) + 10, (row * 10) + 10), fill=(0, 255, 0))\n",
        "\n",
        "        col+=1\n",
        "    row+=1\n",
        "# HINT: You need to keep track of the collumn and row number to draw your pixels.\n",
        "# If you're using the sample code, set your collumn and row variables to 'col' and 'row'\n",
        "\n",
        "\n",
        "# Save the image\n",
        "im.save('solution.jpg')"
      ],
      "metadata": {
        "id": "unXziz5LxvU5"
      },
      "execution_count": 5,
      "outputs": []
    }
  ]
}